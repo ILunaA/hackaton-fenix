{
 "cells": [
  {
   "cell_type": "markdown",
   "id": "1065f71f-072f-4a37-aa00-f92d0bbf95b9",
   "metadata": {},
   "source": [
    "# Simple Example for reading data from CSV in S3 bucket"
   ]
  },
  {
   "cell_type": "code",
   "execution_count": 3,
   "id": "50d80c04-fad6-4640-9c11-9ce40bdf2fea",
   "metadata": {
    "tags": []
   },
   "outputs": [
    {
     "name": "stdout",
     "output_type": "stream",
     "text": [
      "Looking in indexes: https://pypi.org/simple, https://pip.repos.neuron.amazonaws.com\n",
      "Collecting awswrangler\n",
      "  Downloading awswrangler-3.0.0-py3-none-any.whl (327 kB)\n",
      "\u001b[2K     \u001b[90m━━━━━━━━━━━━━━━━━━━━━━━━━━━━━━━━━━━━━━━\u001b[0m \u001b[32m327.1/327.1 kB\u001b[0m \u001b[31m6.4 MB/s\u001b[0m eta \u001b[36m0:00:00\u001b[0ma \u001b[36m0:00:01\u001b[0m\n",
      "\u001b[?25hRequirement already satisfied: typing-extensions<5.0.0,>=4.4.0 in /home/ec2-user/anaconda3/envs/mxnet_p38/lib/python3.8/site-packages (from awswrangler) (4.4.0)\n",
      "Requirement already satisfied: pyarrow>=7.0.0 in /home/ec2-user/anaconda3/envs/mxnet_p38/lib/python3.8/site-packages (from awswrangler) (10.0.1)\n",
      "Requirement already satisfied: numpy<2.0,>=1.18 in /home/ec2-user/anaconda3/envs/mxnet_p38/lib/python3.8/site-packages (from awswrangler) (1.22.3)\n",
      "Requirement already satisfied: boto3<2.0.0,>=1.20.32 in /home/ec2-user/anaconda3/envs/mxnet_p38/lib/python3.8/site-packages (from awswrangler) (1.26.114)\n",
      "Requirement already satisfied: pandas!=1.5.0,<2.0.0,>=1.2.0 in /home/ec2-user/anaconda3/envs/mxnet_p38/lib/python3.8/site-packages (from awswrangler) (1.4.4)\n",
      "Requirement already satisfied: botocore<2.0.0,>=1.23.32 in /home/ec2-user/anaconda3/envs/mxnet_p38/lib/python3.8/site-packages (from awswrangler) (1.29.114)\n",
      "Requirement already satisfied: s3transfer<0.7.0,>=0.6.0 in /home/ec2-user/anaconda3/envs/mxnet_p38/lib/python3.8/site-packages (from boto3<2.0.0,>=1.20.32->awswrangler) (0.6.0)\n",
      "Requirement already satisfied: jmespath<2.0.0,>=0.7.1 in /home/ec2-user/anaconda3/envs/mxnet_p38/lib/python3.8/site-packages (from boto3<2.0.0,>=1.20.32->awswrangler) (1.0.1)\n",
      "Requirement already satisfied: urllib3<1.27,>=1.25.4 in /home/ec2-user/anaconda3/envs/mxnet_p38/lib/python3.8/site-packages (from botocore<2.0.0,>=1.23.32->awswrangler) (1.26.8)\n",
      "Requirement already satisfied: python-dateutil<3.0.0,>=2.1 in /home/ec2-user/anaconda3/envs/mxnet_p38/lib/python3.8/site-packages (from botocore<2.0.0,>=1.23.32->awswrangler) (2.8.2)\n",
      "Requirement already satisfied: pytz>=2020.1 in /home/ec2-user/anaconda3/envs/mxnet_p38/lib/python3.8/site-packages (from pandas!=1.5.0,<2.0.0,>=1.2.0->awswrangler) (2022.7)\n",
      "Requirement already satisfied: six>=1.5 in /home/ec2-user/anaconda3/envs/mxnet_p38/lib/python3.8/site-packages (from python-dateutil<3.0.0,>=2.1->botocore<2.0.0,>=1.23.32->awswrangler) (1.16.0)\n",
      "Installing collected packages: awswrangler\n",
      "Successfully installed awswrangler-3.0.0\n",
      "Note: you may need to restart the kernel to use updated packages.\n"
     ]
    }
   ],
   "source": [
    "pip install awswrangler"
   ]
  },
  {
   "cell_type": "code",
   "execution_count": 4,
   "id": "fc558142-c8e0-451c-8248-bdfd28bb65ed",
   "metadata": {
    "tags": []
   },
   "outputs": [],
   "source": [
    "import awswrangler as wr"
   ]
  },
  {
   "cell_type": "code",
   "execution_count": 6,
   "id": "0a6b3a42-e48e-4f35-8744-145261c6ef73",
   "metadata": {
    "tags": []
   },
   "outputs": [],
   "source": [
    "bucket = 'awsbucket-agri-platform01'\n",
    "path_dir = 'tabla/'\n",
    "fullpath = f\"s3://{bucket}/{path_dir}\"\n",
    "raw_df = wr.s3.read_csv(path=fullpath)"
   ]
  },
  {
   "cell_type": "code",
   "execution_count": 7,
   "id": "bfd42f98-d63c-41e0-84bf-3b3cf76814d8",
   "metadata": {
    "tags": []
   },
   "outputs": [
    {
     "name": "stdout",
     "output_type": "stream",
     "text": [
      "   Id  SepalLengthCm  SepalWidthCm  PetalLengthCm  PetalWidthCm      Species\n",
      "0   1            5.1           3.5            1.4           0.2  Iris-setosa\n",
      "1   2            4.9           3.0            1.4           0.2  Iris-setosa\n",
      "2   3            4.7           3.2            1.3           0.2  Iris-setosa\n",
      "3   4            4.6           3.1            1.5           0.2  Iris-setosa\n",
      "4   5            5.0           3.6            1.4           0.2  Iris-setosa\n"
     ]
    }
   ],
   "source": [
    "print(raw_df.head())"
   ]
  }
 ],
 "metadata": {
  "kernelspec": {
   "display_name": "conda_mxnet_p38",
   "language": "python",
   "name": "conda_mxnet_p38"
  },
  "language_info": {
   "codemirror_mode": {
    "name": "ipython",
    "version": 3
   },
   "file_extension": ".py",
   "mimetype": "text/x-python",
   "name": "python",
   "nbconvert_exporter": "python",
   "pygments_lexer": "ipython3",
   "version": "3.8.15"
  }
 },
 "nbformat": 4,
 "nbformat_minor": 5
}
